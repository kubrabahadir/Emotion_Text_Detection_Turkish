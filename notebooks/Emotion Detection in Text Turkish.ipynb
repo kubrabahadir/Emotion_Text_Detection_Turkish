{
 "cells": [
  {
   "cell_type": "markdown",
   "id": "56cccab6",
   "metadata": {},
   "source": [
    "# Emotions Detection in Text"
   ]
  },
  {
   "cell_type": "code",
   "execution_count": 1,
   "id": "f0814628-3d83-4fd6-a511-2eccf79f9f1e",
   "metadata": {},
   "outputs": [],
   "source": [
    "# EDA\n",
    "import pandas as pd\n",
    "import numpy as np\n",
    "\n",
    "# Load Data Viz Pkgs\n",
    "import seaborn as sns\n",
    "\n",
    "# Load Text Cleaning Pkgs\n",
    "import neattext.functions as nfx\n",
    "\n",
    "# Load ML Pkgs\n",
    "# Estimators\n",
    "from sklearn.linear_model import LogisticRegression\n",
    "from sklearn.naive_bayes import MultinomialNB\n",
    "\n",
    "# Transformers\n",
    "from sklearn.feature_extraction.text import CountVectorizer\n",
    "from sklearn.model_selection import train_test_split\n",
    "from sklearn.metrics import accuracy_score,classification_report,confusion_matrix"
   ]
  },
  {
   "cell_type": "code",
   "execution_count": 2,
   "id": "b209e004-ab77-4407-8689-b4318944d47f",
   "metadata": {},
   "outputs": [],
   "source": [
    "# Load Dataset\n",
    "df = pd.read_csv(\"../data/emotion_dataset_raw.csv\")"
   ]
  },
  {
   "cell_type": "code",
   "execution_count": 3,
   "id": "fea2d4c0-3bdd-405e-ab69-507ceaac36cb",
   "metadata": {},
   "outputs": [
    {
     "data": {
      "text/html": [
       "<div>\n",
       "<style scoped>\n",
       "    .dataframe tbody tr th:only-of-type {\n",
       "        vertical-align: middle;\n",
       "    }\n",
       "\n",
       "    .dataframe tbody tr th {\n",
       "        vertical-align: top;\n",
       "    }\n",
       "\n",
       "    .dataframe thead th {\n",
       "        text-align: right;\n",
       "    }\n",
       "</style>\n",
       "<table border=\"1\" class=\"dataframe\">\n",
       "  <thead>\n",
       "    <tr style=\"text-align: right;\">\n",
       "      <th></th>\n",
       "      <th>Emotion</th>\n",
       "      <th>Text</th>\n",
       "    </tr>\n",
       "  </thead>\n",
       "  <tbody>\n",
       "    <tr>\n",
       "      <th>0</th>\n",
       "      <td>neutral</td>\n",
       "      <td>Why ?</td>\n",
       "    </tr>\n",
       "    <tr>\n",
       "      <th>1</th>\n",
       "      <td>joy</td>\n",
       "      <td>Sage Act upgrade on my to do list for tommorow.</td>\n",
       "    </tr>\n",
       "    <tr>\n",
       "      <th>2</th>\n",
       "      <td>sadness</td>\n",
       "      <td>ON THE WAY TO MY HOMEGIRL BABY FUNERAL!!! MAN ...</td>\n",
       "    </tr>\n",
       "    <tr>\n",
       "      <th>3</th>\n",
       "      <td>joy</td>\n",
       "      <td>Such an eye ! The true hazel eye-and so brill...</td>\n",
       "    </tr>\n",
       "    <tr>\n",
       "      <th>4</th>\n",
       "      <td>joy</td>\n",
       "      <td>@Iluvmiasantos ugh babe.. hugggzzz for u .!  b...</td>\n",
       "    </tr>\n",
       "  </tbody>\n",
       "</table>\n",
       "</div>"
      ],
      "text/plain": [
       "   Emotion                                               Text\n",
       "0  neutral                                             Why ? \n",
       "1      joy    Sage Act upgrade on my to do list for tommorow.\n",
       "2  sadness  ON THE WAY TO MY HOMEGIRL BABY FUNERAL!!! MAN ...\n",
       "3      joy   Such an eye ! The true hazel eye-and so brill...\n",
       "4      joy  @Iluvmiasantos ugh babe.. hugggzzz for u .!  b..."
      ]
     },
     "execution_count": 3,
     "metadata": {},
     "output_type": "execute_result"
    }
   ],
   "source": [
    "df.head()"
   ]
  },
  {
   "cell_type": "code",
   "execution_count": 4,
   "id": "5ab0d939-6807-4f89-9f06-042319bde64c",
   "metadata": {},
   "outputs": [
    {
     "name": "stdout",
     "output_type": "stream",
     "text": [
      "Requirement already satisfied: translate in c:\\users\\kubra\\masaüstü\\emotion-detection-in-text-main\\myenv\\lib\\site-packages (3.6.1)\n",
      "Requirement already satisfied: pandas in c:\\users\\kubra\\masaüstü\\emotion-detection-in-text-main\\myenv\\lib\\site-packages (2.2.2)\n",
      "Requirement already satisfied: click in c:\\users\\kubra\\masaüstü\\emotion-detection-in-text-main\\myenv\\lib\\site-packages (from translate) (8.1.7)\n",
      "Requirement already satisfied: lxml in c:\\users\\kubra\\masaüstü\\emotion-detection-in-text-main\\myenv\\lib\\site-packages (from translate) (5.2.2)\n",
      "Requirement already satisfied: requests in c:\\users\\kubra\\masaüstü\\emotion-detection-in-text-main\\myenv\\lib\\site-packages (from translate) (2.31.0)\n",
      "Requirement already satisfied: libretranslatepy==2.1.1 in c:\\users\\kubra\\masaüstü\\emotion-detection-in-text-main\\myenv\\lib\\site-packages (from translate) (2.1.1)\n",
      "Requirement already satisfied: numpy>=1.26.0 in c:\\users\\kubra\\masaüstü\\emotion-detection-in-text-main\\myenv\\lib\\site-packages (from pandas) (1.26.4)\n",
      "Requirement already satisfied: python-dateutil>=2.8.2 in c:\\users\\kubra\\masaüstü\\emotion-detection-in-text-main\\myenv\\lib\\site-packages (from pandas) (2.9.0.post0)\n",
      "Requirement already satisfied: pytz>=2020.1 in c:\\users\\kubra\\masaüstü\\emotion-detection-in-text-main\\myenv\\lib\\site-packages (from pandas) (2024.1)\n",
      "Requirement already satisfied: tzdata>=2022.7 in c:\\users\\kubra\\masaüstü\\emotion-detection-in-text-main\\myenv\\lib\\site-packages (from pandas) (2024.1)\n",
      "Requirement already satisfied: six>=1.5 in c:\\users\\kubra\\masaüstü\\emotion-detection-in-text-main\\myenv\\lib\\site-packages (from python-dateutil>=2.8.2->pandas) (1.16.0)\n",
      "Requirement already satisfied: colorama in c:\\users\\kubra\\masaüstü\\emotion-detection-in-text-main\\myenv\\lib\\site-packages (from click->translate) (0.4.6)\n",
      "Requirement already satisfied: charset-normalizer<4,>=2 in c:\\users\\kubra\\masaüstü\\emotion-detection-in-text-main\\myenv\\lib\\site-packages (from requests->translate) (3.3.2)\n",
      "Requirement already satisfied: idna<4,>=2.5 in c:\\users\\kubra\\masaüstü\\emotion-detection-in-text-main\\myenv\\lib\\site-packages (from requests->translate) (2.10)\n",
      "Requirement already satisfied: urllib3<3,>=1.21.1 in c:\\users\\kubra\\masaüstü\\emotion-detection-in-text-main\\myenv\\lib\\site-packages (from requests->translate) (2.2.1)\n",
      "Requirement already satisfied: certifi>=2017.4.17 in c:\\users\\kubra\\masaüstü\\emotion-detection-in-text-main\\myenv\\lib\\site-packages (from requests->translate) (2024.2.2)\n"
     ]
    }
   ],
   "source": [
    "!pip install translate pandas"
   ]
  },
  {
   "cell_type": "code",
   "execution_count": 5,
   "id": "5c61068b-4ee4-4ee9-9c68-577e3012a08c",
   "metadata": {},
   "outputs": [
    {
     "name": "stdout",
     "output_type": "stream",
     "text": [
      "Requirement already satisfied: googletrans==4.0.0-rc1 in c:\\users\\kubra\\masaüstü\\emotion-detection-in-text-main\\myenv\\lib\\site-packages (4.0.0rc1)\n",
      "Requirement already satisfied: pandas in c:\\users\\kubra\\masaüstü\\emotion-detection-in-text-main\\myenv\\lib\\site-packages (2.2.2)\n",
      "Collecting httpx==0.13.3 (from googletrans==4.0.0-rc1)\n",
      "  Using cached httpx-0.13.3-py3-none-any.whl.metadata (25 kB)\n",
      "Requirement already satisfied: certifi in c:\\users\\kubra\\masaüstü\\emotion-detection-in-text-main\\myenv\\lib\\site-packages (from httpx==0.13.3->googletrans==4.0.0-rc1) (2024.2.2)\n",
      "Requirement already satisfied: hstspreload in c:\\users\\kubra\\masaüstü\\emotion-detection-in-text-main\\myenv\\lib\\site-packages (from httpx==0.13.3->googletrans==4.0.0-rc1) (2024.5.1)\n",
      "Requirement already satisfied: sniffio in c:\\users\\kubra\\masaüstü\\emotion-detection-in-text-main\\myenv\\lib\\site-packages (from httpx==0.13.3->googletrans==4.0.0-rc1) (1.3.1)\n",
      "Requirement already satisfied: chardet==3.* in c:\\users\\kubra\\masaüstü\\emotion-detection-in-text-main\\myenv\\lib\\site-packages (from httpx==0.13.3->googletrans==4.0.0-rc1) (3.0.4)\n",
      "Requirement already satisfied: idna==2.* in c:\\users\\kubra\\masaüstü\\emotion-detection-in-text-main\\myenv\\lib\\site-packages (from httpx==0.13.3->googletrans==4.0.0-rc1) (2.10)\n",
      "Requirement already satisfied: rfc3986<2,>=1.3 in c:\\users\\kubra\\masaüstü\\emotion-detection-in-text-main\\myenv\\lib\\site-packages (from httpx==0.13.3->googletrans==4.0.0-rc1) (1.5.0)\n",
      "Collecting httpcore==0.9.* (from httpx==0.13.3->googletrans==4.0.0-rc1)\n",
      "  Using cached httpcore-0.9.1-py3-none-any.whl.metadata (4.6 kB)\n",
      "Collecting h11<0.10,>=0.8 (from httpcore==0.9.*->httpx==0.13.3->googletrans==4.0.0-rc1)\n",
      "  Using cached h11-0.9.0-py2.py3-none-any.whl.metadata (8.1 kB)\n",
      "Requirement already satisfied: h2==3.* in c:\\users\\kubra\\masaüstü\\emotion-detection-in-text-main\\myenv\\lib\\site-packages (from httpcore==0.9.*->httpx==0.13.3->googletrans==4.0.0-rc1) (3.2.0)\n",
      "Requirement already satisfied: hyperframe<6,>=5.2.0 in c:\\users\\kubra\\masaüstü\\emotion-detection-in-text-main\\myenv\\lib\\site-packages (from h2==3.*->httpcore==0.9.*->httpx==0.13.3->googletrans==4.0.0-rc1) (5.2.0)\n",
      "Requirement already satisfied: hpack<4,>=3.0 in c:\\users\\kubra\\masaüstü\\emotion-detection-in-text-main\\myenv\\lib\\site-packages (from h2==3.*->httpcore==0.9.*->httpx==0.13.3->googletrans==4.0.0-rc1) (3.0.0)\n",
      "Requirement already satisfied: numpy>=1.26.0 in c:\\users\\kubra\\masaüstü\\emotion-detection-in-text-main\\myenv\\lib\\site-packages (from pandas) (1.26.4)\n",
      "Requirement already satisfied: python-dateutil>=2.8.2 in c:\\users\\kubra\\masaüstü\\emotion-detection-in-text-main\\myenv\\lib\\site-packages (from pandas) (2.9.0.post0)\n",
      "Requirement already satisfied: pytz>=2020.1 in c:\\users\\kubra\\masaüstü\\emotion-detection-in-text-main\\myenv\\lib\\site-packages (from pandas) (2024.1)\n",
      "Requirement already satisfied: tzdata>=2022.7 in c:\\users\\kubra\\masaüstü\\emotion-detection-in-text-main\\myenv\\lib\\site-packages (from pandas) (2024.1)\n",
      "Requirement already satisfied: six>=1.5 in c:\\users\\kubra\\masaüstü\\emotion-detection-in-text-main\\myenv\\lib\\site-packages (from python-dateutil>=2.8.2->pandas) (1.16.0)\n",
      "Using cached httpx-0.13.3-py3-none-any.whl (55 kB)\n",
      "Using cached httpcore-0.9.1-py3-none-any.whl (42 kB)\n",
      "Using cached h11-0.9.0-py2.py3-none-any.whl (53 kB)\n",
      "Installing collected packages: h11, httpcore, httpx\n",
      "  Attempting uninstall: h11\n",
      "    Found existing installation: h11 0.14.0\n",
      "    Uninstalling h11-0.14.0:\n",
      "      Successfully uninstalled h11-0.14.0\n",
      "  Attempting uninstall: httpcore\n",
      "    Found existing installation: httpcore 1.0.5\n",
      "    Uninstalling httpcore-1.0.5:\n",
      "      Successfully uninstalled httpcore-1.0.5\n",
      "  Attempting uninstall: httpx\n",
      "    Found existing installation: httpx 0.27.0\n",
      "    Uninstalling httpx-0.27.0:\n",
      "      Successfully uninstalled httpx-0.27.0\n",
      "Successfully installed h11-0.9.0 httpcore-0.9.1 httpx-0.13.3\n"
     ]
    },
    {
     "name": "stderr",
     "output_type": "stream",
     "text": [
      "ERROR: pip's dependency resolver does not currently take into account all the packages that are installed. This behaviour is the source of the following dependency conflicts.\n",
      "jupyterlab 4.2.1 requires httpx>=0.25.0, but you have httpx 0.13.3 which is incompatible.\n"
     ]
    }
   ],
   "source": [
    "!pip install googletrans==4.0.0-rc1 pandas"
   ]
  },
  {
   "cell_type": "code",
   "execution_count": null,
   "id": "b7d0b736-f128-4449-b118-5d895fa3fd1d",
   "metadata": {},
   "outputs": [],
   "source": [
    "from googletrans import Translator\n",
    "translator = Translator()\n",
    "\n",
    "# Çevrilecek sütunu belirleyin\n",
    "column_to_translate = 'Emotion'\n",
    "\n",
    "# Çeviri işlemini gerçekleştiren fonksiyon\n",
    "def translate_text(text):\n",
    "    try:\n",
    "        return translator.translate(text, src='en', dest='tr').text\n",
    "    except Exception as e:\n",
    "        return str(e)\n",
    "\n",
    "# Çeviri işlemini gerçekleştirin\n",
    "df['translated_column'] = df[column_to_translate].apply(translate_text)\n",
    "\n",
    "# Çevrilen veri setini kaydedin\n",
    "df.to_csv('translated_data.csv', index=False)"
   ]
  },
  {
   "cell_type": "code",
   "execution_count": null,
   "id": "ef0c4148-a850-4f6e-89e8-ad9030b182d9",
   "metadata": {},
   "outputs": [],
   "source": [
    "import pandas as pd\n",
    "from translate import Translator\n",
    "# Çeviri için Translator nesnesini oluşturun\n",
    "translator = Translator(to_lang=\"tr\")\n",
    "\n",
    "# Çevrilecek sütunu belirleyin\n",
    "column_to_translate = 'Emotion'\n",
    "\n",
    "# Çeviri işlemini gerçekleştirin\n",
    "df['translated_column'] = df[column_to_translate].apply(translator.translate)\n"
   ]
  },
  {
   "cell_type": "code",
   "execution_count": null,
   "id": "508f09c7-ebce-4bf3-8e5e-b3d29bdfc717",
   "metadata": {},
   "outputs": [],
   "source": [
    "import pandas as pd\n",
    "from translate import Translator\n",
    "# Çeviri için Translator nesnesini oluşturun\n",
    "translator = Translator(to_lang=\"tr\")\n",
    "\n",
    "# Çevrilecek sütunu belirleyin\n",
    "column_to_translate = 'Text'\n",
    "\n",
    "# Çeviri işlemini gerçekleştirin\n",
    "df['translated_column_1'] = df[column_to_translate].apply(translator.translate)"
   ]
  },
  {
   "cell_type": "code",
   "execution_count": null,
   "id": "eb7edb7e-76f8-4be8-be16-e268fd8e7aff",
   "metadata": {},
   "outputs": [],
   "source": []
  }
 ],
 "metadata": {
  "kernelspec": {
   "display_name": "Python 3 (ipykernel)",
   "language": "python",
   "name": "python3"
  },
  "language_info": {
   "codemirror_mode": {
    "name": "ipython",
    "version": 3
   },
   "file_extension": ".py",
   "mimetype": "text/x-python",
   "name": "python",
   "nbconvert_exporter": "python",
   "pygments_lexer": "ipython3",
   "version": "3.12.2"
  }
 },
 "nbformat": 4,
 "nbformat_minor": 5
}
