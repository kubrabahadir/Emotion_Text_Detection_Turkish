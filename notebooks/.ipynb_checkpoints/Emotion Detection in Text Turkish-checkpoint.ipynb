{
 "cells": [
  {
   "cell_type": "markdown",
   "id": "56cccab6",
   "metadata": {},
   "source": [
    "# Emotions Detection in Text"
   ]
  },
  {
   "cell_type": "code",
   "execution_count": 1,
   "id": "f0814628-3d83-4fd6-a511-2eccf79f9f1e",
   "metadata": {},
   "outputs": [],
   "source": [
    "# EDA\n",
    "import pandas as pd\n",
    "import numpy as np\n",
    "\n",
    "# Load Data Viz Pkgs\n",
    "import seaborn as sns\n",
    "\n",
    "# Load Text Cleaning Pkgs\n",
    "import neattext.functions as nfx\n",
    "\n",
    "# Load ML Pkgs\n",
    "# Estimators\n",
    "from sklearn.linear_model import LogisticRegression\n",
    "from sklearn.naive_bayes import MultinomialNB\n",
    "\n",
    "# Transformers\n",
    "from sklearn.feature_extraction.text import CountVectorizer\n",
    "from sklearn.model_selection import train_test_split\n",
    "from sklearn.metrics import accuracy_score,classification_report,confusion_matrix"
   ]
  },
  {
   "cell_type": "code",
   "execution_count": 5,
   "id": "b209e004-ab77-4407-8689-b4318944d47f",
   "metadata": {},
   "outputs": [],
   "source": [
    "# Load Dataset\n",
    "df = pd.read_csv(\"C:/Users/kubra/Masaüstü/Emotion-Detection-in-Text-main/data/emotion_dataset_raw.csv\")"
   ]
  },
  {
   "cell_type": "code",
   "execution_count": 3,
   "id": "fea2d4c0-3bdd-405e-ab69-507ceaac36cb",
   "metadata": {},
   "outputs": [
    {
     "data": {
      "text/html": [
       "<div>\n",
       "<style scoped>\n",
       "    .dataframe tbody tr th:only-of-type {\n",
       "        vertical-align: middle;\n",
       "    }\n",
       "\n",
       "    .dataframe tbody tr th {\n",
       "        vertical-align: top;\n",
       "    }\n",
       "\n",
       "    .dataframe thead th {\n",
       "        text-align: right;\n",
       "    }\n",
       "</style>\n",
       "<table border=\"1\" class=\"dataframe\">\n",
       "  <thead>\n",
       "    <tr style=\"text-align: right;\">\n",
       "      <th></th>\n",
       "      <th>Emotion</th>\n",
       "      <th>Text</th>\n",
       "    </tr>\n",
       "  </thead>\n",
       "  <tbody>\n",
       "    <tr>\n",
       "      <th>0</th>\n",
       "      <td>neutral</td>\n",
       "      <td>Why ?</td>\n",
       "    </tr>\n",
       "    <tr>\n",
       "      <th>1</th>\n",
       "      <td>joy</td>\n",
       "      <td>Sage Act upgrade on my to do list for tommorow.</td>\n",
       "    </tr>\n",
       "    <tr>\n",
       "      <th>2</th>\n",
       "      <td>sadness</td>\n",
       "      <td>ON THE WAY TO MY HOMEGIRL BABY FUNERAL!!! MAN ...</td>\n",
       "    </tr>\n",
       "    <tr>\n",
       "      <th>3</th>\n",
       "      <td>joy</td>\n",
       "      <td>Such an eye ! The true hazel eye-and so brill...</td>\n",
       "    </tr>\n",
       "    <tr>\n",
       "      <th>4</th>\n",
       "      <td>joy</td>\n",
       "      <td>@Iluvmiasantos ugh babe.. hugggzzz for u .!  b...</td>\n",
       "    </tr>\n",
       "  </tbody>\n",
       "</table>\n",
       "</div>"
      ],
      "text/plain": [
       "   Emotion                                               Text\n",
       "0  neutral                                             Why ? \n",
       "1      joy    Sage Act upgrade on my to do list for tommorow.\n",
       "2  sadness  ON THE WAY TO MY HOMEGIRL BABY FUNERAL!!! MAN ...\n",
       "3      joy   Such an eye ! The true hazel eye-and so brill...\n",
       "4      joy  @Iluvmiasantos ugh babe.. hugggzzz for u .!  b..."
      ]
     },
     "execution_count": 3,
     "metadata": {},
     "output_type": "execute_result"
    }
   ],
   "source": [
    "df.head()"
   ]
  },
  {
   "cell_type": "code",
   "execution_count": 6,
   "id": "5ab0d939-6807-4f89-9f06-042319bde64c",
   "metadata": {},
   "outputs": [
    {
     "name": "stdout",
     "output_type": "stream",
     "text": [
      "Requirement already satisfied: translate in c:\\users\\kubra\\masaüstü\\emotion-detection-in-text-main\\myenv\\lib\\site-packages (3.6.1)\n",
      "Requirement already satisfied: pandas in c:\\users\\kubra\\masaüstü\\emotion-detection-in-text-main\\myenv\\lib\\site-packages (2.2.2)\n",
      "Requirement already satisfied: click in c:\\users\\kubra\\masaüstü\\emotion-detection-in-text-main\\myenv\\lib\\site-packages (from translate) (8.1.7)\n",
      "Requirement already satisfied: lxml in c:\\users\\kubra\\masaüstü\\emotion-detection-in-text-main\\myenv\\lib\\site-packages (from translate) (5.2.2)\n",
      "Requirement already satisfied: requests in c:\\users\\kubra\\masaüstü\\emotion-detection-in-text-main\\myenv\\lib\\site-packages (from translate) (2.31.0)\n",
      "Requirement already satisfied: libretranslatepy==2.1.1 in c:\\users\\kubra\\masaüstü\\emotion-detection-in-text-main\\myenv\\lib\\site-packages (from translate) (2.1.1)\n",
      "Requirement already satisfied: numpy>=1.26.0 in c:\\users\\kubra\\masaüstü\\emotion-detection-in-text-main\\myenv\\lib\\site-packages (from pandas) (1.26.4)\n",
      "Requirement already satisfied: python-dateutil>=2.8.2 in c:\\users\\kubra\\masaüstü\\emotion-detection-in-text-main\\myenv\\lib\\site-packages (from pandas) (2.9.0.post0)\n",
      "Requirement already satisfied: pytz>=2020.1 in c:\\users\\kubra\\masaüstü\\emotion-detection-in-text-main\\myenv\\lib\\site-packages (from pandas) (2024.1)\n",
      "Requirement already satisfied: tzdata>=2022.7 in c:\\users\\kubra\\masaüstü\\emotion-detection-in-text-main\\myenv\\lib\\site-packages (from pandas) (2024.1)\n",
      "Requirement already satisfied: six>=1.5 in c:\\users\\kubra\\masaüstü\\emotion-detection-in-text-main\\myenv\\lib\\site-packages (from python-dateutil>=2.8.2->pandas) (1.16.0)\n",
      "Requirement already satisfied: colorama in c:\\users\\kubra\\masaüstü\\emotion-detection-in-text-main\\myenv\\lib\\site-packages (from click->translate) (0.4.6)\n",
      "Requirement already satisfied: charset-normalizer<4,>=2 in c:\\users\\kubra\\masaüstü\\emotion-detection-in-text-main\\myenv\\lib\\site-packages (from requests->translate) (3.3.2)\n",
      "Requirement already satisfied: idna<4,>=2.5 in c:\\users\\kubra\\masaüstü\\emotion-detection-in-text-main\\myenv\\lib\\site-packages (from requests->translate) (2.10)\n",
      "Requirement already satisfied: urllib3<3,>=1.21.1 in c:\\users\\kubra\\masaüstü\\emotion-detection-in-text-main\\myenv\\lib\\site-packages (from requests->translate) (2.2.1)\n",
      "Requirement already satisfied: certifi>=2017.4.17 in c:\\users\\kubra\\masaüstü\\emotion-detection-in-text-main\\myenv\\lib\\site-packages (from requests->translate) (2024.2.2)\n"
     ]
    }
   ],
   "source": [
    "!pip install translate pandas"
   ]
  },
  {
   "cell_type": "code",
   "execution_count": 8,
   "id": "ef0c4148-a850-4f6e-89e8-ad9030b182d9",
   "metadata": {},
   "outputs": [],
   "source": [
    "import pandas as pd\n",
    "from translate import Translator\n",
    "# Çeviri için Translator nesnesini oluşturun\n",
    "translator = Translator(to_lang=\"tr\")\n",
    "\n",
    "# Çevrilecek sütunu belirleyin\n",
    "column_to_translate = 'Emotion'\n",
    "\n",
    "# Çeviri işlemini gerçekleştirin\n",
    "df['Emotion'] = df[column_to_translate].apply(translator.translate)\n"
   ]
  },
  {
   "cell_type": "code",
   "execution_count": null,
   "id": "508f09c7-ebce-4bf3-8e5e-b3d29bdfc717",
   "metadata": {},
   "outputs": [],
   "source": [
    "import pandas as pd\n",
    "from translate import Translator\n",
    "# Çeviri için Translator nesnesini oluşturun\n",
    "translator = Translator(to_lang=\"tr\")\n",
    "\n",
    "# Çevrilecek sütunu belirleyin\n",
    "column_to_translate = 'Text'\n",
    "\n",
    "# Çeviri işlemini gerçekleştirin\n",
    "df['Text'] = df[column_to_translate].apply(translator.translate)"
   ]
  },
  {
   "cell_type": "code",
   "execution_count": null,
   "id": "eb7edb7e-76f8-4be8-be16-e268fd8e7aff",
   "metadata": {},
   "outputs": [],
   "source": [
    "df['Emotion'].value_counts()"
   ]
  },
  {
   "cell_type": "code",
   "execution_count": null,
   "id": "abb77dae",
   "metadata": {},
   "outputs": [],
   "source": [
    "sns.countplot(x='Emotion',data=df)"
   ]
  },
  {
   "cell_type": "code",
   "execution_count": null,
   "id": "4d32292a",
   "metadata": {},
   "outputs": [],
   "source": [
    "dir(nfx)"
   ]
  },
  {
   "cell_type": "code",
   "execution_count": null,
   "id": "c